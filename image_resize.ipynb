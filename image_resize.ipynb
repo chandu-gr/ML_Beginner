{
 "cells": [
  {
   "cell_type": "code",
   "execution_count": 2,
   "metadata": {},
   "outputs": [],
   "source": [
    "\n",
    "from PIL import Image\n",
    "imageFile = \"C:/Users/Chandu/Desktop/Capture.png\"\n",
    "im1 = Image.open(imageFile).convert('L')\n",
    "# adjust width and height to your needs\n",
    "width = 8\n",
    "height = 8\n",
    "im5 = im1.resize((width, height), Image.ANTIALIAS) \n",
    "import numpy as np\n",
    "y=np.asarray(im5.getdata(),dtype=np.float64).reshape((im5.size[1],im5.size[0]))\n",
    "#y=np.asarray(y,dtype=np.uint8)\n",
    "y = np.subtract(255,y)\n",
    "print(y)"
   ]
  },
  {
   "cell_type": "code",
   "execution_count": 3,
   "metadata": {},
   "outputs": [],
   "source": []
  },
  {
   "cell_type": "code",
   "execution_count": 21,
   "metadata": {},
   "outputs": [],
   "source": [
    "im5.show()"
   ]
  },
  {
   "cell_type": "code",
   "execution_count": 4,
   "metadata": {},
   "outputs": [
    {
     "name": "stdout",
     "output_type": "stream",
     "text": [
      "[255, 255, 249, 242, 245, 252, 255, 255, 255, 253, 244, 254, 246, 245, 255, 255, 255, 253, 244, 255, 246, 250, 255, 255, 255, 255, 248, 238, 242, 255, 255, 255, 255, 255, 250, 241, 243, 251, 255, 255, 255, 255, 243, 255, 252, 247, 255, 255, 255, 255, 248, 247, 248, 248, 255, 255, 255, 255, 255, 247, 246, 254, 255, 255]\n"
     ]
    }
   ],
   "source": [
    "pix_val = list(im5.getdata())\n",
    "print(pix_val)"
   ]
  },
  {
   "cell_type": "code",
   "execution_count": 9,
   "metadata": {},
   "outputs": [
    {
     "name": "stdout",
     "output_type": "stream",
     "text": [
      "[[ 0.  0.  6. 13. 10.  3.  0.  0.]\n",
      " [ 0.  2. 11.  1.  9. 10.  0.  0.]\n",
      " [ 0.  2. 11.  0.  9.  5.  0.  0.]\n",
      " [ 0.  0.  7. 17. 13.  0.  0.  0.]\n",
      " [ 0.  0.  5. 14. 12.  4.  0.  0.]\n",
      " [ 0.  0. 12.  0.  3.  8.  0.  0.]\n",
      " [ 0.  0.  7.  8.  7.  7.  0.  0.]\n",
      " [ 0.  0.  0.  8.  9.  1.  0.  0.]]\n"
     ]
    }
   ],
   "source": []
  },
  {
   "cell_type": "code",
   "execution_count": null,
   "metadata": {},
   "outputs": [],
   "source": [
    "im5.save('greyscale.png')"
   ]
  }
 ],
 "metadata": {
  "kernelspec": {
   "display_name": "Python 3",
   "language": "python",
   "name": "python3"
  },
  "language_info": {
   "codemirror_mode": {
    "name": "ipython",
    "version": 3
   },
   "file_extension": ".py",
   "mimetype": "text/x-python",
   "name": "python",
   "nbconvert_exporter": "python",
   "pygments_lexer": "ipython3",
   "version": "3.6.8"
  }
 },
 "nbformat": 4,
 "nbformat_minor": 2
}
