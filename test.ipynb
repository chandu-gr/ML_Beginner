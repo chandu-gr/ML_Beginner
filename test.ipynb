{
 "cells": [
  {
   "cell_type": "code",
   "execution_count": 10,
   "metadata": {},
   "outputs": [
    {
     "name": "stdout",
     "output_type": "stream",
     "text": [
      "[[ 0.  0.  0.  3.  4.  1.  0.  0.]\n",
      " [ 0.  1. 17. 15. 11. 36. 12.  0.]\n",
      " [ 0. 13. 27.  2.  3. 44. 25.  0.]\n",
      " [ 0.  2. 10. 14. 12. 18. 24.  0.]\n",
      " [ 0.  0.  0.  0.  0.  0. 26.  3.]\n",
      " [ 0.  0.  0.  0.  1.  1. 20. 17.]\n",
      " [ 0.  0.  0.  0.  0.  0.  4. 11.]\n",
      " [ 0.  0.  0.  0.  0.  0.  0.  0.]]\n"
     ]
    }
   ],
   "source": [
    "\n",
    "from PIL import Image\n",
    "imageFile = \"C:/Users/Chandu/Desktop/my-digit.png\"\n",
    "im1 = Image.open(imageFile).convert('L')\n",
    "# adjust width and height to your needs\n",
    "width = 8\n",
    "height = 8\n",
    "im5 = im1.resize((width, height), Image.ANTIALIAS) \n",
    "import numpy as np\n",
    "y=np.asarray(im5.getdata(),dtype=np.float64).reshape((im5.size[1],im5.size[0]))\n",
    "#y=np.asarray(y,dtype=np.uint8)\n",
    "y = np.subtract(255,y)\n",
    "print(y)"
   ]
  },
  {
   "cell_type": "code",
   "execution_count": null,
   "metadata": {},
   "outputs": [],
   "source": []
  }
 ],
 "metadata": {
  "kernelspec": {
   "display_name": "Python 3",
   "language": "python",
   "name": "python3"
  },
  "language_info": {
   "codemirror_mode": {
    "name": "ipython",
    "version": 3
   },
   "file_extension": ".py",
   "mimetype": "text/x-python",
   "name": "python",
   "nbconvert_exporter": "python",
   "pygments_lexer": "ipython3",
   "version": "3.6.8"
  }
 },
 "nbformat": 4,
 "nbformat_minor": 2
}
