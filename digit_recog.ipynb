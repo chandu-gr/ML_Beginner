{
 "cells": [
  {
   "cell_type": "code",
   "execution_count": 1,
   "metadata": {},
   "outputs": [],
   "source": [
    "from sklearn import datasets\n",
    "from sklearn.model_selection import train_test_split\n",
    "from sklearn.neighbors import KNeighborsClassifier \n",
    "from sklearn import metrics\n",
    "import matplotlib.pyplot as plt\n",
    "import numpy as np\n",
    "from sklearn.externals import joblib"
   ]
  },
  {
   "cell_type": "code",
   "execution_count": 2,
   "metadata": {},
   "outputs": [],
   "source": [
    "digit_recog = datasets.load_digits()\n",
    "X = digit_recog.data\n",
    "y = digit_recog.target"
   ]
  },
  {
   "cell_type": "code",
   "execution_count": 3,
   "metadata": {},
   "outputs": [],
   "source": [
    "X_train, X_test, y_train, y_test = train_test_split(X, y, test_size = 0.33, random_state = 4)"
   ]
  },
  {
   "cell_type": "code",
   "execution_count": 4,
   "metadata": {},
   "outputs": [
    {
     "data": {
      "text/plain": [
       "KNeighborsClassifier(algorithm='auto', leaf_size=30, metric='minkowski',\n",
       "           metric_params=None, n_jobs=None, n_neighbors=9, p=2,\n",
       "           weights='uniform')"
      ]
     },
     "execution_count": 4,
     "metadata": {},
     "output_type": "execute_result"
    }
   ],
   "source": [
    "model = KNeighborsClassifier(n_neighbors=9)\n",
    "model.fit(X_train, y_train)"
   ]
  },
  {
   "cell_type": "code",
   "execution_count": 5,
   "metadata": {},
   "outputs": [
    {
     "name": "stdout",
     "output_type": "stream",
     "text": [
      "Accuracy of digits using KNN is :  0.9781144781144782\n"
     ]
    }
   ],
   "source": [
    "y_predicts = model.predict(X_test)\n",
    "print(\"Accuracy of digits using KNN is : \",metrics.accuracy_score(y_test, y_predicts))"
   ]
  },
  {
   "cell_type": "code",
   "execution_count": 6,
   "metadata": {},
   "outputs": [
    {
     "data": {
      "text/plain": [
       "<Figure size 432x288 with 0 Axes>"
      ]
     },
     "metadata": {},
     "output_type": "display_data"
    },
    {
     "data": {
      "image/png": "[encoded data removed]",
      "text/plain": [
       "<Figure size 288x288 with 1 Axes>"
      ]
     },
     "metadata": {
      "needs_background": "light"
     },
     "output_type": "display_data"
    },
    {
     "name": "stdout",
     "output_type": "stream",
     "text": [
      "(8, 8)\n"
     ]
    }
   ],
   "source": [
    "\n",
    "plt.gray() \n",
    "plt.matshow(digit_recog.images[0]) \n",
    "plt.show()\n",
    "print(digit_recog.images[0].shape)"
   ]
  },
  {
   "cell_type": "code",
   "execution_count": 7,
   "metadata": {},
   "outputs": [
    {
     "name": "stdout",
     "output_type": "stream",
     "text": [
      "[[ 0.  0.  5. 13.  9.  1.  0.  0.]\n",
      " [ 0.  0. 13. 15. 10. 15.  5.  0.]\n",
      " [ 0.  3. 15.  2.  0. 11.  8.  0.]\n",
      " [ 0.  4. 12.  0.  0.  8.  8.  0.]\n",
      " [ 0.  5.  8.  0.  0.  9.  8.  0.]\n",
      " [ 0.  4. 11.  0.  1. 12.  7.  0.]\n",
      " [ 0.  2. 14.  5. 10. 12.  0.  0.]\n",
      " [ 0.  0.  6. 13. 10.  0.  0.  0.]]\n"
     ]
    },
    {
     "data": {
      "text/plain": [
       "<Figure size 432x288 with 0 Axes>"
      ]
     },
     "metadata": {},
     "output_type": "display_data"
    },
    {
     "data": {
      "image/png": "[encoded data removed]",
      "text/plain": [
       "<Figure size 288x288 with 1 Axes>"
      ]
     },
     "metadata": {
      "needs_background": "light"
     },
     "output_type": "display_data"
    },
    {
     "name": "stdout",
     "output_type": "stream",
     "text": [
      "[0]\n"
     ]
    }
   ],
   "source": [
    "\n",
    "example = np.reshape(digit_recog.data[0], (1, -1))\n",
    "y_predicts = model.predict(example)\n",
    "print(np.reshape(digit_recog.data[0], (8, -1)))\n",
    "plt.gray() \n",
    "plt.matshow(np.reshape(digit_recog.data[0], (8, -1))) \n",
    "plt.show()\n",
    "print(digit_recog.target_names[y_predicts])\n"
   ]
  },
  {
   "cell_type": "markdown",
   "metadata": {},
   "source": [
    "### Own Image converting to predict"
   ]
  },
  {
   "cell_type": "code",
   "execution_count": 10,
   "metadata": {},
   "outputs": [
    {
     "name": "stdout",
     "output_type": "stream",
     "text": [
      "[[ 0.  0.  0.  3.  4.  1.  0.  0.]\n",
      " [ 0.  1. 17. 15. 11. 36. 12.  0.]\n",
      " [ 0. 13. 27.  2.  3. 44. 25.  0.]\n",
      " [ 0.  2. 10. 14. 12. 18. 24.  0.]\n",
      " [ 0.  0.  0.  0.  0.  0. 26.  3.]\n",
      " [ 0.  0.  0.  0.  1.  1. 20. 17.]\n",
      " [ 0.  0.  0.  0.  0.  0.  4. 11.]\n",
      " [ 0.  0.  0.  0.  0.  0.  0.  0.]]\n"
     ]
    }
   ],
   "source": [
    "\n",
    "from PIL import Image\n",
    "imageFile = \"C:/Users/Chandu/Desktop/my-digit.png\"\n",
    "im1 = Image.open(imageFile).convert('L')\n",
    "# adjust width and height to your needs\n",
    "width = 8\n",
    "height = 8\n",
    "im5 = im1.resize((width, height), Image.ANTIALIAS) \n",
    "import numpy as np\n",
    "y=np.asarray(im5.getdata(),dtype=np.float64).reshape((im5.size[1],im5.size[0]))\n",
    "#y=np.asarray(y,dtype=np.uint8)\n",
    "y = np.subtract(255,y)\n",
    "print(y)"
   ]
  },
  {
   "cell_type": "code",
   "execution_count": 11,
   "metadata": {},
   "outputs": [
    {
     "name": "stdout",
     "output_type": "stream",
     "text": [
      "[[ 0.  0.  0.  3.  4.  1.  0.  0.]\n",
      " [ 0.  1. 17. 15. 11. 36. 12.  0.]\n",
      " [ 0. 13. 27.  2.  3. 44. 25.  0.]\n",
      " [ 0.  2. 10. 14. 12. 18. 24.  0.]\n",
      " [ 0.  0.  0.  0.  0.  0. 26.  3.]\n",
      " [ 0.  0.  0.  0.  1.  1. 20. 17.]\n",
      " [ 0.  0.  0.  0.  0.  0.  4. 11.]\n",
      " [ 0.  0.  0.  0.  0.  0.  0.  0.]]\n"
     ]
    },
    {
     "data": {
      "text/plain": [
       "<Figure size 432x288 with 0 Axes>"
      ]
     },
     "metadata": {},
     "output_type": "display_data"
    },
    {
     "data": {
      "image/png": "[encoded data removed]",
      "text/plain": [
       "<Figure size 288x288 with 1 Axes>"
      ]
     },
     "metadata": {
      "needs_background": "light"
     },
     "output_type": "display_data"
    },
    {
     "name": "stdout",
     "output_type": "stream",
     "text": [
      "[9]\n"
     ]
    }
   ],
   "source": [
    "example = np.reshape(y, (1, -1))\n",
    "y_predicts = model.predict(example)\n",
    "print(np.reshape(y, (8, -1)))\n",
    "plt.gray() \n",
    "plt.matshow(np.reshape(y, (8, -1))) \n",
    "plt.show()\n",
    "print(digit_recog.target_names[y_predicts])"
   ]
  },
  {
   "cell_type": "code",
   "execution_count": null,
   "metadata": {},
   "outputs": [],
   "source": []
  }
 ],
 "metadata": {
  "kernelspec": {
   "display_name": "Python 3",
   "language": "python",
   "name": "python3"
  },
  "language_info": {
   "codemirror_mode": {
    "name": "ipython",
    "version": 3
   },
   "file_extension": ".py",
   "mimetype": "text/x-python",
   "name": "python",
   "nbconvert_exporter": "python",
   "pygments_lexer": "ipython3",
   "version": "3.6.8"
  }
 },
 "nbformat": 4,
 "nbformat_minor": 2
}
